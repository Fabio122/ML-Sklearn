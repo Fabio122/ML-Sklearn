{
 "cells": [
  {
   "cell_type": "markdown",
   "metadata": {},
   "source": [
    "# Dataset description\n",
    "\n",
    "The main goal of this model is to help perform the presumptive diagnosis of two diseases of the urinary system, in specific, acute inflammations of urinary bladder and acute nephritises.\n",
    "\n",
    "\n",
    "The data is in an ASCII file. Attributes are separated by TAB. Each line of the data file starts with a digit which tells the temperature of patient.\n",
    "\n",
    "### Acute inflamation of urinary bladder:\n",
    "Acute inflammation of urinary bladder is characterised by sudden pain in the abdomen region, constant need to urinate, micturition pains and often incontinence.\n",
    "Temperature is often higher than usual but under 38C. \n",
    "The urine is usually turbid and sometimes with traces of blood.\n",
    "\n",
    "\n",
    "### Acute nephritis of renal pelvis:\n",
    "Affects considerably more women than men. It usually begins with a sudden episode of fever, often exceeding 40C. The fever is accompanied by shivers, lumbar pains nausea and vomiting.\n",
    "\n",
    "\n",
    "#### Citations\n",
    "\n",
    "J.Czerniak, H.Zarzycki, Application of rough sets in the presumptive diagnosis of urinary system diseases, Artifical Inteligence and Security in Computing Systems, ACS'2002 9th International Conference Proceedings, \n",
    "Kluwer Academic Publishers,2003, pp. 41-51 \n"
   ]
  },
  {
   "cell_type": "code",
   "execution_count": 2,
   "metadata": {},
   "outputs": [],
   "source": [
    "import pandas as pd\n",
    "import numpy as np\n",
    "from astropy.io import ascii\n",
    "import seaborn as sns\n",
    "import matplotlib.pyplot as plt\n",
    "sns.set(style=\"ticks\", color_codes=True)"
   ]
  },
  {
   "cell_type": "code",
   "execution_count": 3,
   "metadata": {},
   "outputs": [],
   "source": [
    "# data = ascii.read(\"diagnosis.csv\",encoding=\"utf16\")  \n",
    "data = ascii.read(\"diagnosis.csv\", format='no_header', delimiter='\\t',encoding=\"utf16\")  "
   ]
  },
  {
   "cell_type": "code",
   "execution_count": 4,
   "metadata": {},
   "outputs": [],
   "source": [
    "# Make it a pandas Dataframe\n",
    "data = data.to_pandas()\n",
    "# Code categorical values into 1/0\n",
    "data = data.replace(to_replace=[\"no\"],value=0)\n",
    "data = data.replace(to_replace=[\"yes\"],value=1)\n"
   ]
  },
  {
   "cell_type": "code",
   "execution_count": 5,
   "metadata": {},
   "outputs": [],
   "source": [
    "# Add column names\n",
    "data.columns = [\"Temperature\", \"Nausea\", \"Lumbar_Pain\",\"Constant_need_to_Urinate\", \"Micturition_Pain\",\"Inflamed_Urethra\",\"Inflammation\",\"Nephritis\"]"
   ]
  },
  {
   "cell_type": "code",
   "execution_count": 6,
   "metadata": {},
   "outputs": [
    {
     "data": {
      "text/html": [
       "<div>\n",
       "<style scoped>\n",
       "    .dataframe tbody tr th:only-of-type {\n",
       "        vertical-align: middle;\n",
       "    }\n",
       "\n",
       "    .dataframe tbody tr th {\n",
       "        vertical-align: top;\n",
       "    }\n",
       "\n",
       "    .dataframe thead th {\n",
       "        text-align: right;\n",
       "    }\n",
       "</style>\n",
       "<table border=\"1\" class=\"dataframe\">\n",
       "  <thead>\n",
       "    <tr style=\"text-align: right;\">\n",
       "      <th></th>\n",
       "      <th>Temperature</th>\n",
       "      <th>Nausea</th>\n",
       "      <th>Lumbar_Pain</th>\n",
       "      <th>Constant_need_to_Urinate</th>\n",
       "      <th>Micturition_Pain</th>\n",
       "      <th>Inflamed_Urethra</th>\n",
       "      <th>Inflammation</th>\n",
       "      <th>Nephritis</th>\n",
       "    </tr>\n",
       "  </thead>\n",
       "  <tbody>\n",
       "    <tr>\n",
       "      <th>0</th>\n",
       "      <td>35,5</td>\n",
       "      <td>0</td>\n",
       "      <td>1</td>\n",
       "      <td>0</td>\n",
       "      <td>0</td>\n",
       "      <td>0</td>\n",
       "      <td>0</td>\n",
       "      <td>0</td>\n",
       "    </tr>\n",
       "    <tr>\n",
       "      <th>1</th>\n",
       "      <td>35,9</td>\n",
       "      <td>0</td>\n",
       "      <td>0</td>\n",
       "      <td>1</td>\n",
       "      <td>1</td>\n",
       "      <td>1</td>\n",
       "      <td>1</td>\n",
       "      <td>0</td>\n",
       "    </tr>\n",
       "    <tr>\n",
       "      <th>2</th>\n",
       "      <td>35,9</td>\n",
       "      <td>0</td>\n",
       "      <td>1</td>\n",
       "      <td>0</td>\n",
       "      <td>0</td>\n",
       "      <td>0</td>\n",
       "      <td>0</td>\n",
       "      <td>0</td>\n",
       "    </tr>\n",
       "    <tr>\n",
       "      <th>3</th>\n",
       "      <td>36,0</td>\n",
       "      <td>0</td>\n",
       "      <td>0</td>\n",
       "      <td>1</td>\n",
       "      <td>1</td>\n",
       "      <td>1</td>\n",
       "      <td>1</td>\n",
       "      <td>0</td>\n",
       "    </tr>\n",
       "    <tr>\n",
       "      <th>4</th>\n",
       "      <td>36,0</td>\n",
       "      <td>0</td>\n",
       "      <td>1</td>\n",
       "      <td>0</td>\n",
       "      <td>0</td>\n",
       "      <td>0</td>\n",
       "      <td>0</td>\n",
       "      <td>0</td>\n",
       "    </tr>\n",
       "  </tbody>\n",
       "</table>\n",
       "</div>"
      ],
      "text/plain": [
       "  Temperature  Nausea  Lumbar_Pain  Constant_need_to_Urinate  \\\n",
       "0        35,5       0            1                         0   \n",
       "1        35,9       0            0                         1   \n",
       "2        35,9       0            1                         0   \n",
       "3        36,0       0            0                         1   \n",
       "4        36,0       0            1                         0   \n",
       "\n",
       "   Micturition_Pain  Inflamed_Urethra  Inflammation  Nephritis  \n",
       "0                 0                 0             0          0  \n",
       "1                 1                 1             1          0  \n",
       "2                 0                 0             0          0  \n",
       "3                 1                 1             1          0  \n",
       "4                 0                 0             0          0  "
      ]
     },
     "execution_count": 6,
     "metadata": {},
     "output_type": "execute_result"
    }
   ],
   "source": [
    "# Preview data\n",
    "data.head()"
   ]
  },
  {
   "cell_type": "code",
   "execution_count": 7,
   "metadata": {},
   "outputs": [],
   "source": [
    "# Outcome distribution:\n",
    "# 0 - No problem\n",
    "# 1 - Inflammation of urinary bladder present\n",
    "# 2 - Nephritis of renal pelvis origin present\n",
    "# 3 - Both\n",
    "\n",
    "\n",
    "for i in range(data.shape[0]):\n",
    "    if data.loc[i,'Inflammation'] != 1 and data.loc[i, 'Nephritis'] != 1:\n",
    "        data.loc[i,'Outcome'] = 0\n",
    "        \n",
    "    if data.loc[i,'Inflammation'] == 1 and data.loc[i, 'Nephritis'] != 1:\n",
    "        data.loc[i,'Outcome'] = 1\n",
    "        \n",
    "    if data.loc[i,'Inflammation'] != 1 and data.loc[i, 'Nephritis'] == 1:\n",
    "        data.loc[i,'Outcome'] = 2\n",
    "    \n",
    "    if data.loc[i,'Inflammation'] == 1 and data.loc[i, 'Nephritis'] == 1:\n",
    "        data.loc[i,'Outcome'] = 3\n",
    "\n",
    "\n"
   ]
  },
  {
   "cell_type": "code",
   "execution_count": 8,
   "metadata": {},
   "outputs": [
    {
     "data": {
      "image/png": "[encoded data removed]",
      "text/plain": [
       "<Figure size 360x360 with 2 Axes>"
      ]
     },
     "metadata": {
      "needs_background": "light"
     },
     "output_type": "display_data"
    }
   ],
   "source": [
    "# Correlation Matrix\n",
    "plt.figure(figsize=(5,5))\n",
    "sns.heatmap(data.corr(),vmin=-1,cmap='coolwarm',annot=True);                               "
   ]
  },
  {
   "cell_type": "code",
   "execution_count": 9,
   "metadata": {},
   "outputs": [],
   "source": [
    "# Clean up the Temperature column\n",
    "data[\"Temperature\"] = data[\"Temperature\"].str.replace(\",\",\".\").astype(float)\n",
    "\n",
    "X = np.array(data.iloc[:,:6])\n",
    "y = np.array(data.iloc[:,8:9])\n",
    "\n",
    "# Split the data\n",
    "\n",
    "from sklearn.linear_model import LogisticRegression\n",
    "from sklearn.model_selection import train_test_split\n",
    "\n",
    "xTrain, xTest, yTrain, yTest = train_test_split(X, y, test_size = 0.2, random_state = 0)\n"
   ]
  },
  {
   "cell_type": "code",
   "execution_count": 10,
   "metadata": {},
   "outputs": [
    {
     "name": "stderr",
     "output_type": "stream",
     "text": [
      "/home/fabs/anaconda3/lib/python3.7/site-packages/sklearn/linear_model/logistic.py:433: FutureWarning: Default solver will be changed to 'lbfgs' in 0.22. Specify a solver to silence this warning.\n",
      "  FutureWarning)\n",
      "/home/fabs/anaconda3/lib/python3.7/site-packages/sklearn/linear_model/logistic.py:460: FutureWarning: Default multi_class will be changed to 'auto' in 0.22. Specify the multi_class option to silence this warning.\n",
      "  \"this warning.\", FutureWarning)\n"
     ]
    }
   ],
   "source": [
    "\n",
    "# Initialize Object\n",
    "logisticRegr = LogisticRegression()\n",
    "\n",
    "# Fitting parameters\n",
    "logisticRegr.fit(xTrain, yTrain.ravel())\n",
    "\n",
    "# Train & Test predictions\n",
    "train_predictions = logisticRegr.predict(xTrain)\n",
    "test_predictions = logisticRegr.predict(xTest)\n",
    "\n"
   ]
  },
  {
   "cell_type": "code",
   "execution_count": 11,
   "metadata": {},
   "outputs": [
    {
     "name": "stdout",
     "output_type": "stream",
     "text": [
      "Confusion Matrix :\n",
      "[[ 7  0  0  0]\n",
      " [ 0 10  0  0]\n",
      " [ 0  0  4  2]\n",
      " [ 0  0  0  1]]\n",
      "Accuracy Score : 0.9166666666666666\n",
      "Report : \n",
      "              precision    recall  f1-score   support\n",
      "\n",
      "         0.0       1.00      1.00      1.00         7\n",
      "         1.0       1.00      1.00      1.00        10\n",
      "         2.0       1.00      0.67      0.80         6\n",
      "         3.0       0.33      1.00      0.50         1\n",
      "\n",
      "   micro avg       0.92      0.92      0.92        24\n",
      "   macro avg       0.83      0.92      0.82        24\n",
      "weighted avg       0.97      0.92      0.93        24\n",
      "\n"
     ]
    }
   ],
   "source": [
    "from sklearn.metrics import confusion_matrix \n",
    "from sklearn.metrics import accuracy_score \n",
    "from sklearn.metrics import classification_report \n",
    "\n",
    "def accuracy_check(true_y, pred_y):\n",
    "    results = confusion_matrix(true_y, pred_y) \n",
    "    print ('Confusion Matrix :')\n",
    "    print(results) \n",
    "    print ('Accuracy Score :',accuracy_score(true_y, pred_y))\n",
    "    print ('Report : ')\n",
    "    print (classification_report(true_y, pred_y))\n",
    "\n",
    "# Checking accuracy for Test data\n",
    "accuracy_check(yTest, test_predictions)"
   ]
  },
  {
   "cell_type": "code",
   "execution_count": 12,
   "metadata": {},
   "outputs": [
    {
     "name": "stdout",
     "output_type": "stream",
     "text": [
      "Confusion Matrix :\n",
      "[[23  0  0  0]\n",
      " [ 0 30  0  0]\n",
      " [ 0  0 17  8]\n",
      " [ 0  0  0 18]]\n",
      "Accuracy Score : 0.9166666666666666\n",
      "Report : \n",
      "              precision    recall  f1-score   support\n",
      "\n",
      "         0.0       1.00      1.00      1.00        23\n",
      "         1.0       1.00      1.00      1.00        30\n",
      "         2.0       1.00      0.68      0.81        25\n",
      "         3.0       0.69      1.00      0.82        18\n",
      "\n",
      "   micro avg       0.92      0.92      0.92        96\n",
      "   macro avg       0.92      0.92      0.91        96\n",
      "weighted avg       0.94      0.92      0.92        96\n",
      "\n"
     ]
    }
   ],
   "source": [
    "# Checking accuracy for Train data\n",
    "accuracy_check(yTrain, train_predictions)"
   ]
  },
  {
   "cell_type": "code",
   "execution_count": null,
   "metadata": {},
   "outputs": [],
   "source": []
  }
 ],
 "metadata": {
  "kernelspec": {
   "display_name": "Python 3",
   "language": "python",
   "name": "python3"
  },
  "language_info": {
   "codemirror_mode": {
    "name": "ipython",
    "version": 3
   },
   "file_extension": ".py",
   "mimetype": "text/x-python",
   "name": "python",
   "nbconvert_exporter": "python",
   "pygments_lexer": "ipython3",
   "version": "3.7.3"
  }
 },
 "nbformat": 4,
 "nbformat_minor": 2
}
